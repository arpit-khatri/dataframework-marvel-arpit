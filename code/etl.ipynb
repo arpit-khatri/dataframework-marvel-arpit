{
 "cells": [
  {
   "cell_type": "code",
   "execution_count": 2,
   "metadata": {},
   "outputs": [],
   "source": [
    "#input_path =\"C:\\\\Users\\\\arpit\\\\Downloads\\\\dyson\\\\input_files\""
   ]
  },
  {
   "cell_type": "code",
   "execution_count": 32,
   "metadata": {},
   "outputs": [],
   "source": [
    "from pyspark.sql import SparkSession\n",
    "from pyspark.sql.functions import lit, current_timestamp\n",
    "from pyspark.sql.functions import *\n",
    "\n",
    "import yaml"
   ]
  },
  {
   "cell_type": "code",
   "execution_count": 40,
   "metadata": {},
   "outputs": [
    {
     "name": "stdout",
     "output_type": "stream",
     "text": [
      "Input Path: /home/jovyan/work/digital/source\n",
      "Output Path: /home/jovyan/work/digital/target\n"
     ]
    }
   ],
   "source": [
    "# Function to read the configuration from config.yaml\n",
    "def read_config():\n",
    "    try:\n",
    "        with open('config.yaml', 'r') as config_file:\n",
    "            config = yaml.safe_load(config_file)\n",
    "        return config\n",
    "    except FileNotFoundError:\n",
    "        print(\"Error: config.yaml file not found.\")\n",
    "        return None\n",
    "    except yaml.YAMLError as e:\n",
    "        print(f\"Error loading config.yaml: {e}\")\n",
    "        return None\n",
    "\n",
    "if __name__ == \"__main__\":\n",
    "    # Read the configuration from config.yaml\n",
    "    config = read_config()\n",
    "\n",
    "    if config:\n",
    "        # Access the input_path from the config\n",
    "        input_path = config.get('input_path')\n",
    "        output_path = config.get('output_path')\n",
    "\n",
    "        # Print the input_path (you can use it in your PySpark pipeline)\n",
    "        print(f\"Input Path: {input_path}\")\n",
    "        print(f\"Output Path: {output_path}\")\n",
    "    else:\n",
    "        print(\"Configuration not loaded. Please check the YAML file and its location.\")\n",
    "\n",
    "    \n",
    "    # Create a Spark session with the configured app name\n",
    "    spark = SparkSession.builder.appName(config[\"spark\"][\"app_name\"]).getOrCreate()\n",
    "\n"
   ]
  },
  {
   "cell_type": "code",
   "execution_count": 41,
   "metadata": {},
   "outputs": [
    {
     "name": "stdout",
     "output_type": "stream",
     "text": [
      "+-----------+---------------+\n",
      "|characterID|           name|\n",
      "+-----------+---------------+\n",
      "|    1009220|Captain America|\n",
      "|    1010740| Winter Soldier|\n",
      "|    1009471|      Nick Fury|\n",
      "|    1009552|   S.H.I.E.L.D.|\n",
      "|    1009228|  Sharon Carter|\n",
      "+-----------+---------------+\n",
      "only showing top 5 rows\n",
      "\n"
     ]
    }
   ],
   "source": [
    "# Read the CSV file into a DataFrame\n",
    "df_char = spark.read.csv(f\"{input_path}/characters.csv\", header=True, inferSchema=True)\n",
    "df_char.show(5)"
   ]
  },
  {
   "cell_type": "code",
   "execution_count": 42,
   "metadata": {},
   "outputs": [
    {
     "name": "stdout",
     "output_type": "stream",
     "text": [
      "+-----------+---------+------------+--------+-----+----------+-----+------+-----+\n",
      "|       name|Alignment|Intelligence|Strength|Speed|Durability|Power|Combat|Total|\n",
      "+-----------+---------+------------+--------+-----+----------+-----+------+-----+\n",
      "|    3-D Man|     good|          50|      31|   43|        32|   25|    52|  233|\n",
      "|     A-Bomb|     good|          38|     100|   17|        80|   17|    64|  316|\n",
      "| Abe Sapien|     good|          88|      14|   35|        42|   35|    85|  299|\n",
      "|   Abin Sur|     good|          50|      90|   53|        64|   84|    65|  406|\n",
      "|Abomination|      bad|          63|      80|   53|        90|   55|    95|  436|\n",
      "+-----------+---------+------------+--------+-----+----------+-----+------+-----+\n",
      "only showing top 5 rows\n",
      "\n"
     ]
    }
   ],
   "source": [
    "# Read the CSV file into a DataFrame\n",
    "df_stats = spark.read.csv(f\"{input_path}/characters_stats.csv\", header=True, inferSchema=True)\n",
    "df_stats = df_stats.withColumnRenamed(\"Name\",\"name\")\n",
    "df_stats.show(5)"
   ]
  },
  {
   "cell_type": "code",
   "execution_count": 43,
   "metadata": {},
   "outputs": [
    {
     "name": "stdout",
     "output_type": "stream",
     "text": [
      "+---------------+-----------+---------+------------+--------+-----+----------+-----+------+-----+--------+--------------------+\n",
      "|           name|characterID|Alignment|Intelligence|Strength|Speed|Durability|Power|Combat|Total|batch_id|           load_date|\n",
      "+---------------+-----------+---------+------------+--------+-----+----------+-----+------+-----+--------+--------------------+\n",
      "|Captain America|    1009220|     good|          63|      19|   35|        56|   46|   100|  319|     101|2023-09-16 05:46:...|\n",
      "| Winter Soldier|    1010740|     good|          56|      32|   35|        65|   60|    84|  332|     101|2023-09-16 05:46:...|\n",
      "|      Nick Fury|    1009471|     good|          75|      11|   23|        42|   25|   100|  276|     101|2023-09-16 05:46:...|\n",
      "|       Punisher|    1009515|     good|          50|      16|   23|        28|   22|   100|  239|     101|2023-09-16 05:46:...|\n",
      "|      Red Skull|    1009535|      bad|          75|      10|   12|        14|   19|    80|  210|     101|2023-09-16 05:46:...|\n",
      "+---------------+-----------+---------+------------+--------+-----+----------+-----+------+-----+--------+--------------------+\n",
      "only showing top 5 rows\n",
      "\n"
     ]
    }
   ],
   "source": [
    "df_char_stats = df_char.join(df_stats, on=\"name\", how=\"inner\")\n",
    "# Add audit columns\n",
    "df_char_stats = df_char_stats.withColumn(\"batch_id\", lit(\"101\"))\n",
    "df_char_stats = df_char_stats.withColumn(\"load_date\", current_timestamp().cast(\"string\"))\n",
    "df_char_stats.show(5)\n"
   ]
  },
  {
   "cell_type": "code",
   "execution_count": 55,
   "metadata": {},
   "outputs": [
    {
     "name": "stdout",
     "output_type": "stream",
     "text": [
      "DataFrame saved to Parquet file: /home/jovyan/work/digital/target\n"
     ]
    }
   ],
   "source": [
    "# Save the DataFrame to a Parquet file\n",
    "dfp_char_stats = df_char_stats.toPandas()\n",
    "try:\n",
    "    df_char_stats.write.parquet(f\"{output_path}/char_stats\", mode=\"overwrite\")\n",
    "    # Print a message to confirm the file has been saved\n",
    "    print(f\"DataFrame saved to Parquet file: {output_path}\")\n",
    "except Exception as e:\n",
    "    print(f\"Error writing DataFrame to Parquet: {str(e)}\")\n"
   ]
  },
  {
   "cell_type": "code",
   "execution_count": 77,
   "metadata": {},
   "outputs": [
    {
     "name": "stdout",
     "output_type": "stream",
     "text": [
      "Table created Successfully\n"
     ]
    }
   ],
   "source": [
    "# Define the path to your SQL script\n",
    "sql_script_path = \"modelling.sql\"\n",
    "\n",
    "# Read and execute SQL statements from the script\n",
    "with open(sql_script_path, \"r\") as script_file:\n",
    "    sql_statements = script_file.read().split(\";\")  # Split statements by semicolon\n",
    "\n",
    "    # Remove empty statements\n",
    "    sql_statements = [statement.strip() for statement in sql_statements if statement.strip()]\n",
    "\n",
    "    # Execute each SQL statement separately\n",
    "    for statement in sql_statements:\n",
    "        spark.sql(statement)\n",
    "    # Save the SparkSession to a file\n",
    "#spark.sparkContext.setCheckpointDir(\"path/to/checkpoint\")  # Set checkpoint directory\n",
    "#spark.save()\n",
    "print(\"Table created Successfully\")"
   ]
  },
  {
   "cell_type": "code",
   "execution_count": 78,
   "metadata": {},
   "outputs": [
    {
     "name": "stdout",
     "output_type": "stream",
     "text": [
      "+----------------------------+----------------------------+-------+\n",
      "|col_name                    |data_type                   |comment|\n",
      "+----------------------------+----------------------------+-------+\n",
      "|name                        |string                      |null   |\n",
      "|characterID                 |int                         |null   |\n",
      "|Alignment                   |string                      |null   |\n",
      "|Intelligence                |int                         |null   |\n",
      "|Strength                    |int                         |null   |\n",
      "|Speed                       |int                         |null   |\n",
      "|Durability                  |int                         |null   |\n",
      "|Power                       |int                         |null   |\n",
      "|Combat                      |int                         |null   |\n",
      "|Total                       |int                         |null   |\n",
      "|batch_id                    |string                      |null   |\n",
      "|load_date                   |string                      |null   |\n",
      "|                            |                            |       |\n",
      "|# Detailed Table Information|                            |       |\n",
      "|Catalog                     |spark_catalog               |       |\n",
      "|Database                    |db_sil_marvel               |       |\n",
      "|Table                       |char_stats_day_dly          |       |\n",
      "|Created Time                |Sat Sep 16 06:07:32 UTC 2023|       |\n",
      "|Last Access                 |UNKNOWN                     |       |\n",
      "|Created By                  |Spark 3.4.1                 |       |\n",
      "+----------------------------+----------------------------+-------+\n",
      "only showing top 20 rows\n",
      "\n"
     ]
    }
   ],
   "source": [
    "spark.sql(\"describe formatted  db_sil_marvel.char_stats_day_dly\").show(truncate=False)"
   ]
  },
  {
   "cell_type": "code",
   "execution_count": 80,
   "metadata": {},
   "outputs": [
    {
     "name": "stdout",
     "output_type": "stream",
     "text": [
      "+---------------+-----------+---------+------------+--------+-----+----------+-----+------+-----+--------+--------------------------+\n",
      "|name           |characterID|Alignment|Intelligence|Strength|Speed|Durability|Power|Combat|Total|batch_id|load_date                 |\n",
      "+---------------+-----------+---------+------------+--------+-----+----------+-----+------+-----+--------+--------------------------+\n",
      "|Captain America|1009220    |good     |63          |19      |35   |56        |46   |100   |319  |101     |2023-09-16 05:52:14.072456|\n",
      "|Winter Soldier |1010740    |good     |56          |32      |35   |65        |60   |84    |332  |101     |2023-09-16 05:52:14.072456|\n",
      "|Nick Fury      |1009471    |good     |75          |11      |23   |42        |25   |100   |276  |101     |2023-09-16 05:52:14.072456|\n",
      "|Punisher       |1009515    |good     |50          |16      |23   |28        |22   |100   |239  |101     |2023-09-16 05:52:14.072456|\n",
      "|Red Skull      |1009535    |bad      |75          |10      |12   |14        |19   |80    |210  |101     |2023-09-16 05:52:14.072456|\n",
      "+---------------+-----------+---------+------------+--------+-----+----------+-----+------+-----+--------+--------------------------+\n",
      "only showing top 5 rows\n",
      "\n"
     ]
    }
   ],
   "source": [
    "spark.sql(\"select * from db_sil_marvel.char_stats_day_dly\").show(5,truncate=False)"
   ]
  },
  {
   "cell_type": "code",
   "execution_count": 81,
   "metadata": {},
   "outputs": [
    {
     "name": "stdout",
     "output_type": "stream",
     "text": [
      "+-----------+---------+\n",
      "|total_heros|alignment|\n",
      "+-----------+---------+\n",
      "|5          |neutral  |\n",
      "|50         |bad      |\n",
      "|143        |good     |\n",
      "+-----------+---------+\n",
      "\n"
     ]
    }
   ],
   "source": [
    "spark.sql('select count(1) total_heros,alignment from db_sil_marvel.char_stats_day_dly  group by 2;').show(truncate=False)"
   ]
  },
  {
   "cell_type": "code",
   "execution_count": 2,
   "metadata": {},
   "outputs": [
    {
     "name": "stdout",
     "output_type": "stream",
     "text": [
      "Collecting psycopg2-binary\n",
      "  Obtaining dependency information for psycopg2-binary from https://files.pythonhosted.org/packages/20/81/4940235d18747f865d47eb38b98f38acc24b39278b12e20a0fdd20e0a132/psycopg2_binary-2.9.7-cp311-cp311-manylinux_2_17_x86_64.manylinux2014_x86_64.whl.metadata\n",
      "  Downloading psycopg2_binary-2.9.7-cp311-cp311-manylinux_2_17_x86_64.manylinux2014_x86_64.whl.metadata (4.4 kB)\n",
      "Downloading psycopg2_binary-2.9.7-cp311-cp311-manylinux_2_17_x86_64.manylinux2014_x86_64.whl (3.0 MB)\n",
      "\u001b[2K   \u001b[90m━━━━━━━━━━━━━━━━━━━━━━━━━━━━━━━━━━━━━━━━\u001b[0m \u001b[32m3.0/3.0 MB\u001b[0m \u001b[31m13.0 MB/s\u001b[0m eta \u001b[36m0:00:00\u001b[0m00:01\u001b[0m0:01\u001b[0m\n",
      "\u001b[?25hInstalling collected packages: psycopg2-binary\n",
      "Successfully installed psycopg2-binary-2.9.7\n",
      "Note: you may need to restart the kernel to use updated packages.\n"
     ]
    }
   ],
   "source": [
    "pip install psycopg2-binary\n"
   ]
  },
  {
   "cell_type": "code",
   "execution_count": 1,
   "metadata": {},
   "outputs": [
    {
     "name": "stdout",
     "output_type": "stream",
     "text": [
      "Collecting soda-sql\n",
      "  Using cached soda_sql-2.0.0b27-py3-none-any.whl (84 kB)\n",
      "Collecting asn1crypto==1.4.0 (from soda-sql)\n",
      "  Using cached asn1crypto-1.4.0-py2.py3-none-any.whl (104 kB)\n",
      "Collecting azure-common==1.1.25 (from soda-sql)\n",
      "  Using cached azure_common-1.1.25-py2.py3-none-any.whl (12 kB)\n",
      "Collecting azure-core==1.8.2 (from soda-sql)\n",
      "  Using cached azure_core-1.8.2-py2.py3-none-any.whl (122 kB)\n",
      "Collecting azure-storage-blob==12.5.0 (from soda-sql)\n",
      "  Using cached azure_storage_blob-12.5.0-py2.py3-none-any.whl (326 kB)\n",
      "Collecting boto3==1.15.18 (from soda-sql)\n",
      "  Using cached boto3-1.15.18-py2.py3-none-any.whl (129 kB)\n",
      "Collecting botocore==1.18.18 (from soda-sql)\n",
      "  Using cached botocore-1.18.18-py2.py3-none-any.whl (6.7 MB)\n",
      "Collecting cachetools==4.2.0 (from soda-sql)\n",
      "  Using cached cachetools-4.2.0-py3-none-any.whl (12 kB)\n",
      "Collecting certifi==2020.12.5 (from soda-sql)\n",
      "  Using cached certifi-2020.12.5-py2.py3-none-any.whl (147 kB)\n",
      "Collecting cffi==1.14.3 (from soda-sql)\n",
      "  Using cached cffi-1.14.3.tar.gz (470 kB)\n",
      "  Preparing metadata (setup.py) ... \u001b[?25ldone\n",
      "\u001b[?25hCollecting chardet==3.0.4 (from soda-sql)\n",
      "  Using cached chardet-3.0.4-py2.py3-none-any.whl (133 kB)\n",
      "Collecting click==7.1.2 (from soda-sql)\n",
      "  Using cached click-7.1.2-py2.py3-none-any.whl (82 kB)\n",
      "Collecting cryptography==3.3.2 (from soda-sql)\n",
      "  Using cached cryptography-3.3.2-cp36-abi3-manylinux2010_x86_64.whl (2.6 MB)\n",
      "Collecting future==0.18.2 (from soda-sql)\n",
      "  Using cached future-0.18.2.tar.gz (829 kB)\n",
      "  Preparing metadata (setup.py) ... \u001b[?25ldone\n",
      "\u001b[?25hCollecting google-api-core[grpc]==1.24.1 (from soda-sql)\n",
      "  Using cached google_api_core-1.24.1-py2.py3-none-any.whl (92 kB)\n",
      "Collecting google-auth==1.24.0 (from soda-sql)\n",
      "  Using cached google_auth-1.24.0-py2.py3-none-any.whl (114 kB)\n",
      "Collecting google-cloud-bigquery==2.5.0 (from soda-sql)\n",
      "  Using cached google_cloud_bigquery-2.5.0-py2.py3-none-any.whl (210 kB)\n",
      "Collecting google-cloud-core==1.5.0 (from soda-sql)\n",
      "  Using cached google_cloud_core-1.5.0-py2.py3-none-any.whl (27 kB)\n",
      "Collecting google-crc32c==1.1.0 (from soda-sql)\n",
      "  Using cached google-crc32c-1.1.0.tar.gz (14 kB)\n",
      "  Installing build dependencies ... \u001b[?25ldone\n",
      "\u001b[?25h  Getting requirements to build wheel ... \u001b[?25ldone\n",
      "\u001b[?25h  Installing backend dependencies ... \u001b[?25ldone\n",
      "\u001b[?25h  Preparing metadata (pyproject.toml) ... \u001b[?25ldone\n",
      "\u001b[?25hCollecting google-resumable-media==1.2.0 (from soda-sql)\n",
      "  Using cached google_resumable_media-1.2.0-py2.py3-none-any.whl (75 kB)\n",
      "Collecting googleapis-common-protos==1.52.0 (from soda-sql)\n",
      "  Using cached googleapis_common_protos-1.52.0-py2.py3-none-any.whl (100 kB)\n",
      "Collecting grpcio==1.34.0 (from soda-sql)\n",
      "  Using cached grpcio-1.34.0.tar.gz (21.0 MB)\n",
      "  Preparing metadata (setup.py) ... \u001b[?25ldone\n",
      "\u001b[?25hCollecting idna==2.10 (from soda-sql)\n",
      "  Using cached idna-2.10-py2.py3-none-any.whl (58 kB)\n",
      "Collecting isodate==0.6.0 (from soda-sql)\n",
      "  Using cached isodate-0.6.0-py2.py3-none-any.whl (45 kB)\n",
      "Collecting jinja2==2.11.3 (from soda-sql)\n",
      "  Using cached Jinja2-2.11.3-py2.py3-none-any.whl (125 kB)\n",
      "Collecting jmespath==0.10.0 (from soda-sql)\n",
      "  Using cached jmespath-0.10.0-py2.py3-none-any.whl (24 kB)\n",
      "Collecting markupsafe==1.1.1 (from soda-sql)\n",
      "  Using cached MarkupSafe-1.1.1.tar.gz (19 kB)\n",
      "  Preparing metadata (setup.py) ... \u001b[?25ldone\n",
      "\u001b[?25hCollecting msrest==0.6.19 (from soda-sql)\n",
      "  Using cached msrest-0.6.19-py2.py3-none-any.whl (84 kB)\n",
      "Collecting oauthlib==3.1.0 (from soda-sql)\n",
      "  Using cached oauthlib-3.1.0-py2.py3-none-any.whl (147 kB)\n",
      "Collecting oscrypto==1.2.1 (from soda-sql)\n",
      "  Using cached oscrypto-1.2.1-py2.py3-none-any.whl (192 kB)\n",
      "Collecting proto-plus==1.13.0 (from soda-sql)\n",
      "  Using cached proto-plus-1.13.0.tar.gz (44 kB)\n",
      "  Preparing metadata (setup.py) ... \u001b[?25ldone\n",
      "\u001b[?25hCollecting protobuf==3.14.0 (from soda-sql)\n",
      "  Using cached protobuf-3.14.0-py2.py3-none-any.whl (173 kB)\n",
      "Collecting psycopg2-binary==2.8.5 (from soda-sql)\n",
      "  Using cached psycopg2-binary-2.8.5.tar.gz (381 kB)\n",
      "  Preparing metadata (setup.py) ... \u001b[?25lerror\n",
      "  \u001b[1;31merror\u001b[0m: \u001b[1msubprocess-exited-with-error\u001b[0m\n",
      "  \n",
      "  \u001b[31m×\u001b[0m \u001b[32mpython setup.py egg_info\u001b[0m did not run successfully.\n",
      "  \u001b[31m│\u001b[0m exit code: \u001b[1;36m1\u001b[0m\n",
      "  \u001b[31m╰─>\u001b[0m \u001b[31m[37 lines of output]\u001b[0m\n",
      "  \u001b[31m   \u001b[0m /opt/conda/lib/python3.11/site-packages/setuptools/config/setupcfg.py:293: _DeprecatedConfig: Deprecated config in `setup.cfg`\n",
      "  \u001b[31m   \u001b[0m !!\n",
      "  \u001b[31m   \u001b[0m \n",
      "  \u001b[31m   \u001b[0m         ********************************************************************************\n",
      "  \u001b[31m   \u001b[0m         The license_file parameter is deprecated, use license_files instead.\n",
      "  \u001b[31m   \u001b[0m \n",
      "  \u001b[31m   \u001b[0m         By 2023-Oct-30, you need to update your project and remove deprecated calls\n",
      "  \u001b[31m   \u001b[0m         or your builds will no longer be supported.\n",
      "  \u001b[31m   \u001b[0m \n",
      "  \u001b[31m   \u001b[0m         See https://setuptools.pypa.io/en/latest/userguide/declarative_config.html for details.\n",
      "  \u001b[31m   \u001b[0m         ********************************************************************************\n",
      "  \u001b[31m   \u001b[0m \n",
      "  \u001b[31m   \u001b[0m !!\n",
      "  \u001b[31m   \u001b[0m   parsed = self.parsers.get(option_name, lambda x: x)(value)\n",
      "  \u001b[31m   \u001b[0m running egg_info\n",
      "  \u001b[31m   \u001b[0m creating /tmp/pip-pip-egg-info-eq279dic/psycopg2_binary.egg-info\n",
      "  \u001b[31m   \u001b[0m writing /tmp/pip-pip-egg-info-eq279dic/psycopg2_binary.egg-info/PKG-INFO\n",
      "  \u001b[31m   \u001b[0m writing dependency_links to /tmp/pip-pip-egg-info-eq279dic/psycopg2_binary.egg-info/dependency_links.txt\n",
      "  \u001b[31m   \u001b[0m writing top-level names to /tmp/pip-pip-egg-info-eq279dic/psycopg2_binary.egg-info/top_level.txt\n",
      "  \u001b[31m   \u001b[0m writing manifest file '/tmp/pip-pip-egg-info-eq279dic/psycopg2_binary.egg-info/SOURCES.txt'\n",
      "  \u001b[31m   \u001b[0m \n",
      "  \u001b[31m   \u001b[0m Error: pg_config executable not found.\n",
      "  \u001b[31m   \u001b[0m \n",
      "  \u001b[31m   \u001b[0m pg_config is required to build psycopg2 from source.  Please add the directory\n",
      "  \u001b[31m   \u001b[0m containing pg_config to the $PATH or specify the full executable path with the\n",
      "  \u001b[31m   \u001b[0m option:\n",
      "  \u001b[31m   \u001b[0m \n",
      "  \u001b[31m   \u001b[0m     python setup.py build_ext --pg-config /path/to/pg_config build ...\n",
      "  \u001b[31m   \u001b[0m \n",
      "  \u001b[31m   \u001b[0m or with the pg_config option in 'setup.cfg'.\n",
      "  \u001b[31m   \u001b[0m \n",
      "  \u001b[31m   \u001b[0m If you prefer to avoid building psycopg2 from source, please install the PyPI\n",
      "  \u001b[31m   \u001b[0m 'psycopg2-binary' package instead.\n",
      "  \u001b[31m   \u001b[0m \n",
      "  \u001b[31m   \u001b[0m For further information please check the 'doc/src/install.rst' file (also at\n",
      "  \u001b[31m   \u001b[0m <https://www.psycopg.org/docs/install.html>).\n",
      "  \u001b[31m   \u001b[0m \n",
      "  \u001b[31m   \u001b[0m \u001b[31m[end of output]\u001b[0m\n",
      "  \n",
      "  \u001b[1;35mnote\u001b[0m: This error originates from a subprocess, and is likely not a problem with pip.\n",
      "\u001b[1;31merror\u001b[0m: \u001b[1mmetadata-generation-failed\u001b[0m\n",
      "\n",
      "\u001b[31m×\u001b[0m Encountered error while generating package metadata.\n",
      "\u001b[31m╰─>\u001b[0m See above for output.\n",
      "\n",
      "\u001b[1;35mnote\u001b[0m: This is an issue with the package mentioned above, not pip.\n",
      "\u001b[1;36mhint\u001b[0m: See above for details.\n",
      "\u001b[?25hNote: you may need to restart the kernel to use updated packages.\n"
     ]
    }
   ],
   "source": [
    "pip install soda-sql"
   ]
  },
  {
   "cell_type": "code",
   "execution_count": 1,
   "metadata": {},
   "outputs": [
    {
     "name": "stdout",
     "output_type": "stream",
     "text": [
      "Requirement already satisfied: pip in /opt/conda/lib/python3.11/site-packages (23.2.1)\n",
      "Note: you may need to restart the kernel to use updated packages.\n"
     ]
    }
   ],
   "source": [
    "pip install --upgrade pip\n"
   ]
  },
  {
   "cell_type": "code",
   "execution_count": 2,
   "metadata": {},
   "outputs": [
    {
     "ename": "ModuleNotFoundError",
     "evalue": "No module named 'soda.spark'",
     "output_type": "error",
     "traceback": [
      "\u001b[0;31m---------------------------------------------------------------------------\u001b[0m",
      "\u001b[0;31mModuleNotFoundError\u001b[0m                       Traceback (most recent call last)",
      "Cell \u001b[0;32mIn[2], line 2\u001b[0m\n\u001b[1;32m      1\u001b[0m \u001b[38;5;28;01mimport\u001b[39;00m \u001b[38;5;21;01munittest\u001b[39;00m\n\u001b[0;32m----> 2\u001b[0m \u001b[38;5;28;01mfrom\u001b[39;00m \u001b[38;5;21;01msoda\u001b[39;00m\u001b[38;5;21;01m.\u001b[39;00m\u001b[38;5;21;01mspark\u001b[39;00m \u001b[38;5;28;01mimport\u001b[39;00m SparkDFAssert\n\u001b[1;32m      4\u001b[0m \u001b[38;5;28;01mclass\u001b[39;00m \u001b[38;5;21;01mTestCharStats\u001b[39;00m(unittest\u001b[38;5;241m.\u001b[39mTestCase):\n\u001b[1;32m      5\u001b[0m     \u001b[38;5;129m@classmethod\u001b[39m\n\u001b[1;32m      6\u001b[0m     \u001b[38;5;28;01mdef\u001b[39;00m \u001b[38;5;21msetUpClass\u001b[39m(\u001b[38;5;28mcls\u001b[39m):\n\u001b[1;32m      7\u001b[0m         \u001b[38;5;66;03m# Load configuration from config.yaml\u001b[39;00m\n",
      "\u001b[0;31mModuleNotFoundError\u001b[0m: No module named 'soda.spark'"
     ]
    }
   ],
   "source": [
    "import unittest\n",
    "from soda.spark import SparkDFAssert\n",
    "\n",
    "class TestCharStats(unittest.TestCase):\n",
    "    @classmethod\n",
    "    def setUpClass(cls):\n",
    "        # Load configuration from config.yaml\n",
    "        with open(\"config.yaml\", \"r\") as config_file:\n",
    "            config = yaml.safe_load(config_file)\n",
    "        \n",
    "        # Create a Spark session with the configured app name\n",
    "        #cls.spark = SparkSession.builder.appName(config[\"spark\"][\"app_name\"]).getOrCreate()\n",
    "\n",
    "    @classmethod\n",
    "    def tearDownClass(cls):\n",
    "        # Stop the Spark session\n",
    "        cls.spark.stop()\n",
    "\n",
    "    def test_table_structure(self):\n",
    "        # Load configuration from config.yaml\n",
    "        with open(\"config.yaml\", \"r\") as config_file:\n",
    "            config = yaml.safe_load(config_file)\n",
    "\n",
    "        # Assert table schema and column names\n",
    "        soda_assert = SparkDFAssert(self.spark)\n",
    "        df = self.spark.table(config[\"database\"][\"table_name\"])\n",
    "\n",
    "        # Check if the table has the expected columns\n",
    "        expected_columns = [\"name\", \"characterID\", \"Alignment\", \"Intelligence\", \"Strength\", \"Speed\", \"Durability\", \"Power\", \"Combat\", \"Total\", \"batch_id\", \"load_date\"]\n",
    "        soda_assert.assertColumnNames(df, expected_columns)\n",
    "\n",
    "        # Add more assertions on the table structure as needed\n",
    "        # soda_assert.assertColumnType(...)\n",
    "        # soda_assert.assertColumnNotNull(...)\n",
    "\n",
    "    def test_data_quality(self):\n",
    "        # Load configuration from config.yaml\n",
    "        with open(\"config.yaml\", \"r\") as config_file:\n",
    "            config = yaml.safe_load(config_file)\n",
    "\n",
    "        # Assert data quality checks (e.g., check for null values, data types, etc.)\n",
    "        soda_assert = SparkDFAssert(self.spark)\n",
    "        df = self.spark.table(config[\"database\"][\"table_name\"])\n",
    "\n",
    "        # Example: Check if the 'name' column does not contain null values\n",
    "        soda_assert.assertColumnNotNull(df, \"name\")\n",
    "\n",
    "        # Add more data quality checks as needed\n",
    "\n",
    "    def test_data_consistency(self):\n",
    "        # Load configuration from config.yaml\n",
    "        with open(\"config.yaml\", \"r\") as config_file:\n",
    "            config = yaml.safe_load(config_file)\n",
    "\n",
    "        # Assert data consistency checks (e.g., check for valid data values)\n",
    "        soda_assert = SparkDFAssert(self.spark)\n",
    "        df = self.spark.table(config[\"database\"][\"table_name\"])\n",
    "\n",
    "        # Example: Check if 'Total' column values are consistent with the sum of other attributes\n",
    "        soda_assert.assertColumnEqualToSum(df, \"Total\", [\"Intelligence\", \"Strength\", \"Speed\", \"Durability\", \"Power\", \"Combat\"])\n",
    "\n",
    "        # Add more data consistency checks as needed\n",
    "\n",
    "if __name__ == '__main__':\n",
    "    unittest.main()\n"
   ]
  },
  {
   "cell_type": "code",
   "execution_count": 4,
   "metadata": {},
   "outputs": [
    {
     "name": "stdout",
     "output_type": "stream",
     "text": [
      "\u001b[31mERROR: Could not find a version that satisfies the requirement soda-pyspark (from versions: none)\u001b[0m\u001b[31m\n",
      "\u001b[0m\u001b[31mERROR: No matching distribution found for soda-pyspark\u001b[0m\u001b[31m\n",
      "\u001b[0m"
     ]
    }
   ],
   "source": [
    "import unittest\n",
    "from pyspark.sql import SparkSession\n",
    "from pyspark.sql import functions as F\n",
    "from soda import Context\n",
    "\n",
    "class TestCharStats(unittest.TestCase):\n",
    "    @classmethod\n",
    "    def setUpClass(cls):\n",
    "        # Create a Spark session\n",
    "        cls.spark = SparkSession.builder.appName(\"TestCharStats\").getOrCreate()\n",
    "\n",
    "    @classmethod\n",
    "    def tearDownClass(cls):\n",
    "        # Stop the Spark session\n",
    "        cls.spark.stop()\n",
    "\n",
    "    def test_data_quality(self):\n",
    "        # Load your DataFrame\n",
    "        df = self.spark.read.parquet(\"path_to_parquet_file\")  # Replace with the actual path\n",
    "\n",
    "        # Create a Soda Context\n",
    "        context = Context(self.spark)\n",
    "\n",
    "        # Define data tests using Soda's DSL\n",
    "        tests = context.create_test_suite()\n",
    "        tests.expect_column_values_to_be_between(\"Intelligence\", min_value=0, max_value=100)\n",
    "        tests.expect_column_values_to_be_between(\"Strength\", min_value=0, max_value=100)\n",
    "        tests.expect_column_values_to_be_between(\"Speed\", min_value=0, max_value=100)\n",
    "\n",
    "        # Run the data tests\n",
    "        results = tests.run(df)\n",
    "\n",
    "        # Check the test results\n",
    "        self.assertTrue(results[\"success\"])\n",
    "\n",
    "if __name__ == '__main__':\n",
    "    unittest.main()\n"
   ]
  }
 ],
 "metadata": {
  "kernelspec": {
   "display_name": "Python 3 (ipykernel)",
   "language": "python",
   "name": "python3"
  },
  "language_info": {
   "codemirror_mode": {
    "name": "ipython",
    "version": 3
   },
   "file_extension": ".py",
   "mimetype": "text/x-python",
   "name": "python",
   "nbconvert_exporter": "python",
   "pygments_lexer": "ipython3",
   "version": "3.11.5"
  }
 },
 "nbformat": 4,
 "nbformat_minor": 4
}
