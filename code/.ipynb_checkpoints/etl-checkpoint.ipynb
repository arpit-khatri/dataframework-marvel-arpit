{
 "cells": [
  {
   "cell_type": "code",
   "execution_count": 2,
   "metadata": {},
   "outputs": [],
   "source": [
    "#input_path =\"C:\\\\Users\\\\arpit\\\\Downloads\\\\dyson\\\\input_files\""
   ]
  },
  {
   "cell_type": "code",
   "execution_count": 1,
   "metadata": {},
   "outputs": [],
   "source": [
    "from pyspark.sql import SparkSession\n",
    "from pyspark.sql.functions import lit, current_timestamp\n",
    "from pyspark.sql.functions import *\n",
    "\n",
    "import pyarrow as pa\n",
    "\n",
    "import yaml\n",
    "\n",
    "# Create a Spark session\n",
    "spark = SparkSession.builder.appName(\"ETL\").getOrCreate()\n"
   ]
  },
  {
   "cell_type": "code",
   "execution_count": 2,
   "metadata": {},
   "outputs": [
    {
     "name": "stdout",
     "output_type": "stream",
     "text": [
      "Input Path: /home/jovyan/work/digital/source\n",
      "Output Path: /home/jovyan/work/digital/target\n"
     ]
    }
   ],
   "source": [
    "# Function to read the configuration from config.yaml\n",
    "def read_config():\n",
    "    try:\n",
    "        with open('config.yaml', 'r') as config_file:\n",
    "            config = yaml.safe_load(config_file)\n",
    "        return config\n",
    "    except FileNotFoundError:\n",
    "        print(\"Error: config.yaml file not found.\")\n",
    "        return None\n",
    "    except yaml.YAMLError as e:\n",
    "        print(f\"Error loading config.yaml: {e}\")\n",
    "        return None\n",
    "\n",
    "if __name__ == \"__main__\":\n",
    "    # Read the configuration from config.yaml\n",
    "    config = read_config()\n",
    "\n",
    "    if config:\n",
    "        # Access the input_path from the config\n",
    "        input_path = config.get('input_path')\n",
    "        output_path = config.get('output_path')\n",
    "\n",
    "        # Print the input_path (you can use it in your PySpark pipeline)\n",
    "        print(f\"Input Path: {input_path}\")\n",
    "        print(f\"Output Path: {output_path}\")\n",
    "    else:\n",
    "        print(\"Configuration not loaded. Please check the YAML file and its location.\")\n"
   ]
  },
  {
   "cell_type": "code",
   "execution_count": 4,
   "metadata": {},
   "outputs": [
    {
     "name": "stdout",
     "output_type": "stream",
     "text": [
      "+-----------+---------------+\n",
      "|characterID|           name|\n",
      "+-----------+---------------+\n",
      "|    1009220|Captain America|\n",
      "|    1010740| Winter Soldier|\n",
      "|    1009471|      Nick Fury|\n",
      "|    1009552|   S.H.I.E.L.D.|\n",
      "|    1009228|  Sharon Carter|\n",
      "+-----------+---------------+\n",
      "only showing top 5 rows\n",
      "\n"
     ]
    }
   ],
   "source": [
    "# Read the CSV file into a DataFrame\n",
    "df_char = spark.read.csv(f\"{input_path}/characters.csv\", header=True, inferSchema=True)\n",
    "df_char.show(5)"
   ]
  },
  {
   "cell_type": "code",
   "execution_count": 5,
   "metadata": {},
   "outputs": [
    {
     "name": "stdout",
     "output_type": "stream",
     "text": [
      "+-----------+---------+------------+--------+-----+----------+-----+------+-----+\n",
      "|       name|Alignment|Intelligence|Strength|Speed|Durability|Power|Combat|Total|\n",
      "+-----------+---------+------------+--------+-----+----------+-----+------+-----+\n",
      "|    3-D Man|     good|          50|      31|   43|        32|   25|    52|  233|\n",
      "|     A-Bomb|     good|          38|     100|   17|        80|   17|    64|  316|\n",
      "| Abe Sapien|     good|          88|      14|   35|        42|   35|    85|  299|\n",
      "|   Abin Sur|     good|          50|      90|   53|        64|   84|    65|  406|\n",
      "|Abomination|      bad|          63|      80|   53|        90|   55|    95|  436|\n",
      "+-----------+---------+------------+--------+-----+----------+-----+------+-----+\n",
      "only showing top 5 rows\n",
      "\n"
     ]
    }
   ],
   "source": [
    "# Read the CSV file into a DataFrame\n",
    "df_stats = spark.read.csv(f\"{input_path}/characters_stats.csv\", header=True, inferSchema=True)\n",
    "df_stats = df_stats.withColumnRenamed(\"Name\",\"name\")\n",
    "df_stats.show(5)"
   ]
  },
  {
   "cell_type": "code",
   "execution_count": 6,
   "metadata": {},
   "outputs": [
    {
     "name": "stdout",
     "output_type": "stream",
     "text": [
      "+---------------+-----------+---------+------------+--------+-----+----------+-----+------+-----+--------+--------------------+\n",
      "|           name|characterID|Alignment|Intelligence|Strength|Speed|Durability|Power|Combat|Total|batch_id|           load_date|\n",
      "+---------------+-----------+---------+------------+--------+-----+----------+-----+------+-----+--------+--------------------+\n",
      "|Captain America|    1009220|     good|          63|      19|   35|        56|   46|   100|  319|     101|2023-09-15 19:22:...|\n",
      "| Winter Soldier|    1010740|     good|          56|      32|   35|        65|   60|    84|  332|     101|2023-09-15 19:22:...|\n",
      "|      Nick Fury|    1009471|     good|          75|      11|   23|        42|   25|   100|  276|     101|2023-09-15 19:22:...|\n",
      "|       Punisher|    1009515|     good|          50|      16|   23|        28|   22|   100|  239|     101|2023-09-15 19:22:...|\n",
      "|      Red Skull|    1009535|      bad|          75|      10|   12|        14|   19|    80|  210|     101|2023-09-15 19:22:...|\n",
      "+---------------+-----------+---------+------------+--------+-----+----------+-----+------+-----+--------+--------------------+\n",
      "only showing top 5 rows\n",
      "\n"
     ]
    }
   ],
   "source": [
    "df_char_stats = df_char.join(df_stats, on=\"name\", how=\"inner\")\n",
    "# Add audit columns\n",
    "df_char_stats = df_char_stats.withColumn(\"batch_id\", lit(\"101\"))\n",
    "df_char_stats = df_char_stats.withColumn(\"load_date\", current_timestamp().cast(\"string\"))\n",
    "df_char_stats.show(5)\n"
   ]
  },
  {
   "cell_type": "code",
   "execution_count": 8,
   "metadata": {},
   "outputs": [
    {
     "name": "stdout",
     "output_type": "stream",
     "text": [
      "DataFrame saved to Parquet file: /home/jovyan/work/digital/target\n"
     ]
    }
   ],
   "source": [
    "# Save the DataFrame to a Parquet file\n",
    "dfp_char_stats = df_char_stats.toPandas()\n",
    "try:\n",
    "    df_char_stats.write.parquet(f\"{output_path}/char_stats.parquet\", mode=\"overwrite\")\n",
    "    # Print a message to confirm the file has been saved\n",
    "    print(f\"DataFrame saved to Parquet file: {output_path}\")\n",
    "except Exception as e:\n",
    "    print(f\"Error writing DataFrame to Parquet: {str(e)}\")\n"
   ]
  },
  {
   "cell_type": "code",
   "execution_count": 17,
   "metadata": {},
   "outputs": [
    {
     "name": "stdout",
     "output_type": "stream",
     "text": [
      "Table created Successfully\n"
     ]
    }
   ],
   "source": [
    "# Define the path to your SQL script\n",
    "sql_script_path = \"modelling.sql\"\n",
    "\n",
    "# Read and execute SQL statements from the script\n",
    "with open(sql_script_path, \"r\") as script_file:\n",
    "    sql_statements = script_file.read().split(\";\")  # Split statements by semicolon\n",
    "\n",
    "    # Remove empty statements\n",
    "    sql_statements = [statement.strip() for statement in sql_statements if statement.strip()]\n",
    "\n",
    "    # Execute each SQL statement separately\n",
    "    for statement in sql_statements:\n",
    "        spark.sql(statement)\n",
    "    print(\"Table created Successfully\")"
   ]
  },
  {
   "cell_type": "code",
   "execution_count": 19,
   "metadata": {},
   "outputs": [
    {
     "name": "stdout",
     "output_type": "stream",
     "text": [
      "+-----------------------------------------------------------------------------------------------------------------------------------------------------------------------------------------------------------------------------------------------------------------------------------------------------------------------------------------------------------+\n",
      "|createtab_stmt                                                                                                                                                                                                                                                                                                                                             |\n",
      "+-----------------------------------------------------------------------------------------------------------------------------------------------------------------------------------------------------------------------------------------------------------------------------------------------------------------------------------------------------------+\n",
      "|CREATE TABLE db_sil_marvel.char_stats_day_dly (\\n  name STRING,\\n  characterID INT,\\n  Alignment STRING,\\n  Intelligence INT,\\n  Strength INT,\\n  Speed INT,\\n  Durability INT,\\n  Power INT,\\n  Combat INT,\\n  Total INT,\\n  batch_id STRING,\\n  load_date STRING)\\nUSING parquet\\nLOCATION 'file:///home/jovyan/work/digital/target/char_stats.parquet'\\n|\n",
      "+-----------------------------------------------------------------------------------------------------------------------------------------------------------------------------------------------------------------------------------------------------------------------------------------------------------------------------------------------------------+\n",
      "\n"
     ]
    }
   ],
   "source": [
    "spark.sql(\"show create table db_sil_marvel.char_stats_day_dly\").show(truncate=False)"
   ]
  },
  {
   "cell_type": "code",
   "execution_count": 20,
   "metadata": {},
   "outputs": [
    {
     "name": "stdout",
     "output_type": "stream",
     "text": [
      "+----------------+-----------+---------+------------+--------+-----+----------+-----+------+-----+--------+--------------------------+\n",
      "|name            |characterID|Alignment|Intelligence|Strength|Speed|Durability|Power|Combat|Total|batch_id|load_date                 |\n",
      "+----------------+-----------+---------+------------+--------+-----+----------+-----+------+-----+--------+--------------------------+\n",
      "|Captain America |1009220    |good     |63          |19      |35   |56        |46   |100   |319  |101     |2023-09-15 19:23:20.312867|\n",
      "|Winter Soldier  |1010740    |good     |56          |32      |35   |65        |60   |84    |332  |101     |2023-09-15 19:23:20.312867|\n",
      "|Nick Fury       |1009471    |good     |75          |11      |23   |42        |25   |100   |276  |101     |2023-09-15 19:23:20.312867|\n",
      "|Punisher        |1009515    |good     |50          |16      |23   |28        |22   |100   |239  |101     |2023-09-15 19:23:20.312867|\n",
      "|Red Skull       |1009535    |bad      |75          |10      |12   |14        |19   |80    |210  |101     |2023-09-15 19:23:20.312867|\n",
      "|Beast           |1009175    |good     |88          |48      |35   |56        |35   |84    |346  |101     |2023-09-15 19:23:20.312867|\n",
      "|Colossus        |1009243    |good     |63          |83      |33   |100       |46   |80    |405  |101     |2023-09-15 19:23:20.312867|\n",
      "|Cyclops         |1009257    |good     |75          |10      |23   |42        |76   |80    |306  |101     |2023-09-15 19:23:20.312867|\n",
      "|Emma Frost      |1009310    |good     |75          |63      |35   |90        |82   |42    |387  |101     |2023-09-15 19:23:20.312867|\n",
      "|Wolverine       |1009718    |good     |55          |32      |38   |100       |44   |100   |369  |101     |2023-09-15 19:23:20.312867|\n",
      "|Spider-Man      |1009610    |good     |88          |55      |60   |74        |58   |85    |420  |101     |2023-09-15 19:23:20.312867|\n",
      "|Iron Man        |1009368    |good     |100         |85      |58   |85        |100  |64    |492  |101     |2023-09-15 19:23:20.312867|\n",
      "|Deadpool        |1009268    |neutral  |50          |15      |30   |100       |100  |100   |395  |101     |2023-09-15 19:23:20.312867|\n",
      "|Gambit          |1009313    |good     |63          |10      |23   |28        |55   |84    |263  |101     |2023-09-15 19:23:20.312867|\n",
      "|Rogue           |1009546    |good     |75          |10      |12   |28        |80   |80    |285  |101     |2023-09-15 19:23:20.312867|\n",
      "|Luke Cage       |1009215    |good     |44          |55      |23   |95        |35   |64    |316  |101     |2023-09-15 19:23:20.312867|\n",
      "|Domino          |1009277    |good     |63          |10      |27   |28        |49   |74    |251  |101     |2023-09-15 19:23:20.312867|\n",
      "|Lady Deathstrike|1009393    |bad      |1           |1       |1    |1         |0    |1     |5    |101     |2023-09-15 19:23:20.312867|\n",
      "|Omega Red       |1009482    |bad      |1           |1       |1    |1         |0    |1     |5    |101     |2023-09-15 19:23:20.312867|\n",
      "|Sabretooth      |1009554    |bad      |55          |53      |25   |90        |28   |100   |351  |101     |2023-09-15 19:23:20.312867|\n",
      "+----------------+-----------+---------+------------+--------+-----+----------+-----+------+-----+--------+--------------------------+\n",
      "only showing top 20 rows\n",
      "\n"
     ]
    }
   ],
   "source": [
    "spark.sql(\"select * from db_sil_marvel.char_stats_day_dly\").show(truncate=False)"
   ]
  },
  {
   "cell_type": "code",
   "execution_count": 25,
   "metadata": {},
   "outputs": [
    {
     "name": "stdout",
     "output_type": "stream",
     "text": [
      "+-----------+---------+\n",
      "|total_heros|alignment|\n",
      "+-----------+---------+\n",
      "|5          |neutral  |\n",
      "|50         |bad      |\n",
      "|143        |good     |\n",
      "+-----------+---------+\n",
      "\n"
     ]
    }
   ],
   "source": [
    "spark.sql('select count(1) total_heros,alignment from db_sil_marvel.char_stats_day_dly  group by 2;').show(truncate=False)"
   ]
  },
  {
   "cell_type": "code",
   "execution_count": null,
   "metadata": {},
   "outputs": [],
   "source": []
  }
 ],
 "metadata": {
  "kernelspec": {
   "display_name": "Python 3 (ipykernel)",
   "language": "python",
   "name": "python3"
  },
  "language_info": {
   "codemirror_mode": {
    "name": "ipython",
    "version": 3
   },
   "file_extension": ".py",
   "mimetype": "text/x-python",
   "name": "python",
   "nbconvert_exporter": "python",
   "pygments_lexer": "ipython3",
   "version": "3.11.5"
  }
 },
 "nbformat": 4,
 "nbformat_minor": 4
}
