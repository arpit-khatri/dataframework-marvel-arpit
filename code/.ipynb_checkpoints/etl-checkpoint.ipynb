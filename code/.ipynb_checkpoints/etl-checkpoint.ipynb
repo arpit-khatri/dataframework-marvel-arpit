{
 "cells": [
  {
   "cell_type": "code",
   "execution_count": 2,
   "metadata": {},
   "outputs": [],
   "source": [
    "#input_path =\"C:\\\\Users\\\\arpit\\\\Downloads\\\\dyson\\\\input_files\""
   ]
  },
  {
   "cell_type": "code",
   "execution_count": 31,
   "metadata": {},
   "outputs": [],
   "source": [
    "from pyspark.sql import SparkSession\n",
    "from pyspark.sql.functions import lit, current_timestamp\n",
    "from pyspark.sql.functions import *\n",
    "\n",
    "import pyarrow as pa\n",
    "\n",
    "import yaml\n",
    "\n",
    "# Create a Spark session\n",
    "spark = SparkSession.builder.appName(\"ETL\").getOrCreate()\n"
   ]
  },
  {
   "cell_type": "code",
   "execution_count": 28,
   "metadata": {},
   "outputs": [
    {
     "name": "stdout",
     "output_type": "stream",
     "text": [
      "Input Path: C:\\Users\\arpit\\Downloads\\dyson\\source\n",
      "Output Path: C:\\Users\\arpit\\Downloads\\dyson\\target\n"
     ]
    }
   ],
   "source": [
    "# Function to read the configuration from config.yaml\n",
    "def read_config():\n",
    "    try:\n",
    "        with open('config.yaml', 'r') as config_file:\n",
    "            config = yaml.safe_load(config_file)\n",
    "        return config\n",
    "    except FileNotFoundError:\n",
    "        print(\"Error: config.yaml file not found.\")\n",
    "        return None\n",
    "    except yaml.YAMLError as e:\n",
    "        print(f\"Error loading config.yaml: {e}\")\n",
    "        return None\n",
    "\n",
    "if __name__ == \"__main__\":\n",
    "    # Read the configuration from config.yaml\n",
    "    config = read_config()\n",
    "\n",
    "    if config:\n",
    "        # Access the input_path from the config\n",
    "        input_path = config.get('input_path')\n",
    "        output_path = config.get('output_path')\n",
    "\n",
    "        # Print the input_path (you can use it in your PySpark pipeline)\n",
    "        print(f\"Input Path: {input_path}\")\n",
    "        print(f\"Output Path: {output_path}\")\n",
    "    else:\n",
    "        print(\"Configuration not loaded. Please check the YAML file and its location.\")\n"
   ]
  },
  {
   "cell_type": "code",
   "execution_count": 17,
   "metadata": {},
   "outputs": [
    {
     "name": "stdout",
     "output_type": "stream",
     "text": [
      "+-----------+---------------+\n",
      "|characterID|           name|\n",
      "+-----------+---------------+\n",
      "|    1009220|Captain America|\n",
      "|    1010740| Winter Soldier|\n",
      "|    1009471|      Nick Fury|\n",
      "|    1009552|   S.H.I.E.L.D.|\n",
      "|    1009228|  Sharon Carter|\n",
      "+-----------+---------------+\n",
      "only showing top 5 rows\n",
      "\n"
     ]
    }
   ],
   "source": [
    "# Read the CSV file into a DataFrame\n",
    "df_char = spark.read.csv(f\"{input_path}\\characters.csv\", header=True, inferSchema=True)\n",
    "df_char.show(5)"
   ]
  },
  {
   "cell_type": "code",
   "execution_count": 19,
   "metadata": {},
   "outputs": [
    {
     "name": "stdout",
     "output_type": "stream",
     "text": [
      "+-----------+---------+------------+--------+-----+----------+-----+------+-----+\n",
      "|       name|Alignment|Intelligence|Strength|Speed|Durability|Power|Combat|Total|\n",
      "+-----------+---------+------------+--------+-----+----------+-----+------+-----+\n",
      "|    3-D Man|     good|          50|      31|   43|        32|   25|    52|  233|\n",
      "|     A-Bomb|     good|          38|     100|   17|        80|   17|    64|  316|\n",
      "| Abe Sapien|     good|          88|      14|   35|        42|   35|    85|  299|\n",
      "|   Abin Sur|     good|          50|      90|   53|        64|   84|    65|  406|\n",
      "|Abomination|      bad|          63|      80|   53|        90|   55|    95|  436|\n",
      "+-----------+---------+------------+--------+-----+----------+-----+------+-----+\n",
      "only showing top 5 rows\n",
      "\n"
     ]
    }
   ],
   "source": [
    "# Read the CSV file into a DataFrame\n",
    "df_stats = spark.read.csv(f\"{input_path}\\characters_stats.csv\", header=True, inferSchema=True)\n",
    "df_stats = df_stats.withColumnRenamed(\"Name\",\"name\")\n",
    "df_stats.show(5)"
   ]
  },
  {
   "cell_type": "code",
   "execution_count": 27,
   "metadata": {},
   "outputs": [
    {
     "name": "stdout",
     "output_type": "stream",
     "text": [
      "+---------------+-----------+---------+------------+--------+-----+----------+-----+------+-----+--------+--------------------+\n",
      "|           name|characterID|Alignment|Intelligence|Strength|Speed|Durability|Power|Combat|Total|batch_id|           load_date|\n",
      "+---------------+-----------+---------+------------+--------+-----+----------+-----+------+-----+--------+--------------------+\n",
      "|Captain America|    1009220|     good|          63|      19|   35|        56|   46|   100|  319|     101|2023-09-15 01:25:...|\n",
      "| Winter Soldier|    1010740|     good|          56|      32|   35|        65|   60|    84|  332|     101|2023-09-15 01:25:...|\n",
      "|      Nick Fury|    1009471|     good|          75|      11|   23|        42|   25|   100|  276|     101|2023-09-15 01:25:...|\n",
      "|       Punisher|    1009515|     good|          50|      16|   23|        28|   22|   100|  239|     101|2023-09-15 01:25:...|\n",
      "|      Red Skull|    1009535|      bad|          75|      10|   12|        14|   19|    80|  210|     101|2023-09-15 01:25:...|\n",
      "+---------------+-----------+---------+------------+--------+-----+----------+-----+------+-----+--------+--------------------+\n",
      "only showing top 5 rows\n",
      "\n"
     ]
    }
   ],
   "source": [
    "df_char_stats = df_char.join(df_stats, on=\"name\", how=\"inner\")\n",
    "# Add audit columns\n",
    "df_char_stats = df_char_stats.withColumn(\"batch_id\", lit(\"101\"))\n",
    "df_char_stats = df_char_stats.withColumn(\"load_date\", current_timestamp().cast(\"string\"))\n",
    "df_char_stats.show(5)\n"
   ]
  },
  {
   "cell_type": "code",
   "execution_count": 37,
   "metadata": {},
   "outputs": [
    {
     "name": "stdout",
     "output_type": "stream",
     "text": [
      "DataFrame saved to Parquet file: C:\\Users\\arpit\\Downloads\\dyson\\target\n"
     ]
    }
   ],
   "source": [
    "# Save the DataFrame to a Parquet file\n",
    "dfp_char_stats = df_char_stats.toPandas()\n",
    "try:\n",
    "    dfp_char_stats.to_parquet(f\"{output_path}\\char_stats.parquet\", index=False, engine=\"pyarrow\")\n",
    "    # Print a message to confirm the file has been saved\n",
    "    print(f\"DataFrame saved to Parquet file: {output_path}\")\n",
    "except Exception as e:\n",
    "    print(f\"Error writing DataFrame to Parquet: {str(e)}\")\n"
   ]
  },
  {
   "cell_type": "code",
   "execution_count": null,
   "metadata": {},
   "outputs": [],
   "source": []
  }
 ],
 "metadata": {
  "kernelspec": {
   "display_name": "base",
   "language": "python",
   "name": "python3"
  },
  "language_info": {
   "codemirror_mode": {
    "name": "ipython",
    "version": 3
   },
   "file_extension": ".py",
   "mimetype": "text/x-python",
   "name": "python",
   "nbconvert_exporter": "python",
   "pygments_lexer": "ipython3",
   "version": "3.11.4"
  },
  "orig_nbformat": 4
 },
 "nbformat": 4,
 "nbformat_minor": 2
}
