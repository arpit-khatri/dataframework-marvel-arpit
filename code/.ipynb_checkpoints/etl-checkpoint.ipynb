{
 "cells": [
  {
   "cell_type": "code",
   "execution_count": 2,
   "metadata": {},
   "outputs": [],
   "source": [
    "#input_path =\"C:\\\\Users\\\\arpit\\\\Downloads\\\\dyson\\\\input_files\""
   ]
  },
  {
   "cell_type": "code",
   "execution_count": 32,
   "metadata": {},
   "outputs": [],
   "source": [
    "from pyspark.sql import SparkSession\n",
    "from pyspark.sql.functions import lit, current_timestamp\n",
    "from pyspark.sql.functions import *\n",
    "\n",
    "import yaml"
   ]
  },
  {
   "cell_type": "code",
   "execution_count": 40,
   "metadata": {},
   "outputs": [
    {
     "name": "stdout",
     "output_type": "stream",
     "text": [
      "Input Path: /home/jovyan/work/digital/source\n",
      "Output Path: /home/jovyan/work/digital/target\n"
     ]
    }
   ],
   "source": [
    "# Function to read the configuration from config.yaml\n",
    "def read_config():\n",
    "    try:\n",
    "        with open('config.yaml', 'r') as config_file:\n",
    "            config = yaml.safe_load(config_file)\n",
    "        return config\n",
    "    except FileNotFoundError:\n",
    "        print(\"Error: config.yaml file not found.\")\n",
    "        return None\n",
    "    except yaml.YAMLError as e:\n",
    "        print(f\"Error loading config.yaml: {e}\")\n",
    "        return None\n",
    "\n",
    "if __name__ == \"__main__\":\n",
    "    # Read the configuration from config.yaml\n",
    "    config = read_config()\n",
    "\n",
    "    if config:\n",
    "        # Access the input_path from the config\n",
    "        input_path = config.get('input_path')\n",
    "        output_path = config.get('output_path')\n",
    "\n",
    "        # Print the input_path (you can use it in your PySpark pipeline)\n",
    "        print(f\"Input Path: {input_path}\")\n",
    "        print(f\"Output Path: {output_path}\")\n",
    "    else:\n",
    "        print(\"Configuration not loaded. Please check the YAML file and its location.\")\n",
    "\n",
    "    \n",
    "    # Create a Spark session with the configured app name\n",
    "    spark = SparkSession.builder.appName(config[\"spark\"][\"app_name\"]).getOrCreate()\n",
    "\n"
   ]
  },
  {
   "cell_type": "code",
   "execution_count": 41,
   "metadata": {},
   "outputs": [
    {
     "name": "stdout",
     "output_type": "stream",
     "text": [
      "+-----------+---------------+\n",
      "|characterID|           name|\n",
      "+-----------+---------------+\n",
      "|    1009220|Captain America|\n",
      "|    1010740| Winter Soldier|\n",
      "|    1009471|      Nick Fury|\n",
      "|    1009552|   S.H.I.E.L.D.|\n",
      "|    1009228|  Sharon Carter|\n",
      "+-----------+---------------+\n",
      "only showing top 5 rows\n",
      "\n"
     ]
    }
   ],
   "source": [
    "# Read the CSV file into a DataFrame\n",
    "df_char = spark.read.csv(f\"{input_path}/characters.csv\", header=True, inferSchema=True)\n",
    "df_char.show(5)"
   ]
  },
  {
   "cell_type": "code",
   "execution_count": 42,
   "metadata": {},
   "outputs": [
    {
     "name": "stdout",
     "output_type": "stream",
     "text": [
      "+-----------+---------+------------+--------+-----+----------+-----+------+-----+\n",
      "|       name|Alignment|Intelligence|Strength|Speed|Durability|Power|Combat|Total|\n",
      "+-----------+---------+------------+--------+-----+----------+-----+------+-----+\n",
      "|    3-D Man|     good|          50|      31|   43|        32|   25|    52|  233|\n",
      "|     A-Bomb|     good|          38|     100|   17|        80|   17|    64|  316|\n",
      "| Abe Sapien|     good|          88|      14|   35|        42|   35|    85|  299|\n",
      "|   Abin Sur|     good|          50|      90|   53|        64|   84|    65|  406|\n",
      "|Abomination|      bad|          63|      80|   53|        90|   55|    95|  436|\n",
      "+-----------+---------+------------+--------+-----+----------+-----+------+-----+\n",
      "only showing top 5 rows\n",
      "\n"
     ]
    }
   ],
   "source": [
    "# Read the CSV file into a DataFrame\n",
    "df_stats = spark.read.csv(f\"{input_path}/characters_stats.csv\", header=True, inferSchema=True)\n",
    "df_stats = df_stats.withColumnRenamed(\"Name\",\"name\")\n",
    "df_stats.show(5)"
   ]
  },
  {
   "cell_type": "code",
   "execution_count": 43,
   "metadata": {},
   "outputs": [
    {
     "name": "stdout",
     "output_type": "stream",
     "text": [
      "+---------------+-----------+---------+------------+--------+-----+----------+-----+------+-----+--------+--------------------+\n",
      "|           name|characterID|Alignment|Intelligence|Strength|Speed|Durability|Power|Combat|Total|batch_id|           load_date|\n",
      "+---------------+-----------+---------+------------+--------+-----+----------+-----+------+-----+--------+--------------------+\n",
      "|Captain America|    1009220|     good|          63|      19|   35|        56|   46|   100|  319|     101|2023-09-16 05:46:...|\n",
      "| Winter Soldier|    1010740|     good|          56|      32|   35|        65|   60|    84|  332|     101|2023-09-16 05:46:...|\n",
      "|      Nick Fury|    1009471|     good|          75|      11|   23|        42|   25|   100|  276|     101|2023-09-16 05:46:...|\n",
      "|       Punisher|    1009515|     good|          50|      16|   23|        28|   22|   100|  239|     101|2023-09-16 05:46:...|\n",
      "|      Red Skull|    1009535|      bad|          75|      10|   12|        14|   19|    80|  210|     101|2023-09-16 05:46:...|\n",
      "+---------------+-----------+---------+------------+--------+-----+----------+-----+------+-----+--------+--------------------+\n",
      "only showing top 5 rows\n",
      "\n"
     ]
    }
   ],
   "source": [
    "df_char_stats = df_char.join(df_stats, on=\"name\", how=\"inner\")\n",
    "# Add audit columns\n",
    "df_char_stats = df_char_stats.withColumn(\"batch_id\", lit(\"101\"))\n",
    "df_char_stats = df_char_stats.withColumn(\"load_date\", current_timestamp().cast(\"string\"))\n",
    "df_char_stats.show(5)\n"
   ]
  },
  {
   "cell_type": "code",
   "execution_count": 55,
   "metadata": {},
   "outputs": [
    {
     "name": "stdout",
     "output_type": "stream",
     "text": [
      "DataFrame saved to Parquet file: /home/jovyan/work/digital/target\n"
     ]
    }
   ],
   "source": [
    "# Save the DataFrame to a Parquet file\n",
    "dfp_char_stats = df_char_stats.toPandas()\n",
    "try:\n",
    "    df_char_stats.write.parquet(f\"{output_path}/char_stats_day_dly\", mode=\"overwrite\")\n",
    "    # Print a message to confirm the file has been saved\n",
    "    print(f\"DataFrame saved to Parquet file: {output_path}\")\n",
    "except Exception as e:\n",
    "    print(f\"Error writing DataFrame to Parquet: {str(e)}\")\n"
   ]
  },
  {
   "cell_type": "code",
   "execution_count": 77,
   "metadata": {},
   "outputs": [
    {
     "name": "stdout",
     "output_type": "stream",
     "text": [
      "Table created Successfully\n"
     ]
    }
   ],
   "source": [
    "# Define the path to your SQL script\n",
    "sql_script_path = \"modelling.sql\"\n",
    "\n",
    "# Read and execute SQL statements from the script\n",
    "with open(sql_script_path, \"r\") as script_file:\n",
    "    sql_statements = script_file.read().split(\";\")  # Split statements by semicolon\n",
    "\n",
    "    # Remove empty statements\n",
    "    sql_statements = [statement.strip() for statement in sql_statements if statement.strip()]\n",
    "\n",
    "    # Execute each SQL statement separately\n",
    "    for statement in sql_statements:\n",
    "        spark.sql(statement)\n",
    "    # Save the SparkSession to a file\n",
    "#spark.sparkContext.setCheckpointDir(\"path/to/checkpoint\")  # Set checkpoint directory\n",
    "#spark.save()\n",
    "print(\"Table created Successfully\")"
   ]
  },
  {
   "cell_type": "code",
   "execution_count": 78,
   "metadata": {},
   "outputs": [
    {
     "name": "stdout",
     "output_type": "stream",
     "text": [
      "+----------------------------+----------------------------+-------+\n",
      "|col_name                    |data_type                   |comment|\n",
      "+----------------------------+----------------------------+-------+\n",
      "|name                        |string                      |null   |\n",
      "|characterID                 |int                         |null   |\n",
      "|Alignment                   |string                      |null   |\n",
      "|Intelligence                |int                         |null   |\n",
      "|Strength                    |int                         |null   |\n",
      "|Speed                       |int                         |null   |\n",
      "|Durability                  |int                         |null   |\n",
      "|Power                       |int                         |null   |\n",
      "|Combat                      |int                         |null   |\n",
      "|Total                       |int                         |null   |\n",
      "|batch_id                    |string                      |null   |\n",
      "|load_date                   |string                      |null   |\n",
      "|                            |                            |       |\n",
      "|# Detailed Table Information|                            |       |\n",
      "|Catalog                     |spark_catalog               |       |\n",
      "|Database                    |db_sil_marvel               |       |\n",
      "|Table                       |char_stats_day_dly          |       |\n",
      "|Created Time                |Sat Sep 16 06:07:32 UTC 2023|       |\n",
      "|Last Access                 |UNKNOWN                     |       |\n",
      "|Created By                  |Spark 3.4.1                 |       |\n",
      "+----------------------------+----------------------------+-------+\n",
      "only showing top 20 rows\n",
      "\n"
     ]
    }
   ],
   "source": [
    "spark.sql(\"describe formatted  db_sil_marvel.char_stats_day_dly\").show(truncate=False)"
   ]
  },
  {
   "cell_type": "code",
   "execution_count": 80,
   "metadata": {},
   "outputs": [
    {
     "name": "stdout",
     "output_type": "stream",
     "text": [
      "+---------------+-----------+---------+------------+--------+-----+----------+-----+------+-----+--------+--------------------------+\n",
      "|name           |characterID|Alignment|Intelligence|Strength|Speed|Durability|Power|Combat|Total|batch_id|load_date                 |\n",
      "+---------------+-----------+---------+------------+--------+-----+----------+-----+------+-----+--------+--------------------------+\n",
      "|Captain America|1009220    |good     |63          |19      |35   |56        |46   |100   |319  |101     |2023-09-16 05:52:14.072456|\n",
      "|Winter Soldier |1010740    |good     |56          |32      |35   |65        |60   |84    |332  |101     |2023-09-16 05:52:14.072456|\n",
      "|Nick Fury      |1009471    |good     |75          |11      |23   |42        |25   |100   |276  |101     |2023-09-16 05:52:14.072456|\n",
      "|Punisher       |1009515    |good     |50          |16      |23   |28        |22   |100   |239  |101     |2023-09-16 05:52:14.072456|\n",
      "|Red Skull      |1009535    |bad      |75          |10      |12   |14        |19   |80    |210  |101     |2023-09-16 05:52:14.072456|\n",
      "+---------------+-----------+---------+------------+--------+-----+----------+-----+------+-----+--------+--------------------------+\n",
      "only showing top 5 rows\n",
      "\n"
     ]
    }
   ],
   "source": [
    "spark.sql(\"select * from db_sil_marvel.char_stats_day_dly\").show(5,truncate=False)"
   ]
  },
  {
   "cell_type": "code",
   "execution_count": 81,
   "metadata": {},
   "outputs": [
    {
     "name": "stdout",
     "output_type": "stream",
     "text": [
      "+-----------+---------+\n",
      "|total_heros|alignment|\n",
      "+-----------+---------+\n",
      "|5          |neutral  |\n",
      "|50         |bad      |\n",
      "|143        |good     |\n",
      "+-----------+---------+\n",
      "\n"
     ]
    }
   ],
   "source": [
    "spark.sql('select count(1) total_heros,alignment from db_sil_marvel.char_stats_day_dly  group by 2;').show(truncate=False)"
   ]
  }
 ],
 "metadata": {
  "kernelspec": {
   "display_name": "Python 3 (ipykernel)",
   "language": "python",
   "name": "python3"
  },
  "language_info": {
   "codemirror_mode": {
    "name": "ipython",
    "version": 3
   },
   "file_extension": ".py",
   "mimetype": "text/x-python",
   "name": "python",
   "nbconvert_exporter": "python",
   "pygments_lexer": "ipython3",
   "version": "3.11.5"
  }
 },
 "nbformat": 4,
 "nbformat_minor": 4
}
